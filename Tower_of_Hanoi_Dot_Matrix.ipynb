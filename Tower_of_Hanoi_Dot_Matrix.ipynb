{
  "cells": [
    {
      "cell_type": "markdown",
      "metadata": {
        "id": "x9q8dwcx9Ti8"
      },
      "source": [
        "# Tower of Hanoi Dot Matrix Display\n",
        "This project calculates the number of steps required to solve the Tower of Hanoi puzzle for a given number of disks and displays the result on a custom-width dot matrix display. The display mimics LED sea markers and uses a circular disc for each dot. The project also includes a bonus section for solving the Cyclic Hanoi puzzle.\n",
        "\n",
        "## Features:\n",
        "- Calculate steps to solve Tower of Hanoi\n",
        "- Generate dot matrix display for visual representation\n",
        "- Support for grayscale dot matrix images\n",
        "\n"
      ]
    },
    {
      "cell_type": "markdown",
      "metadata": {
        "id": "m8SCU3Cb9s7H"
      },
      "source": [
        "## Installation"
      ]
    },
    {
      "cell_type": "code",
      "execution_count": null,
      "metadata": {
        "id": "WI5ii9r1JnJz"
      },
      "outputs": [],
      "source": [
        "import numpy as np\n",
        "import matplotlib.pyplot as plt"
      ]
    },
    {
      "cell_type": "markdown",
      "metadata": {
        "id": "XOOGjMP395u7"
      },
      "source": [
        "## Usage\n",
        "\n",
        "1. Run the main script:\n",
        "    ```bash\n",
        "    python main.py\n",
        "    ```\n",
        "2. Enter the number of disks when prompted.\n",
        "3. The program will display the number of steps required and generate a dot matrix image.\n",
        "\n"
      ]
    },
    {
      "cell_type": "code",
      "execution_count": null,
      "metadata": {
        "id": "LftYdztoLEJ8"
      },
      "outputs": [],
      "source": [
        "def draw_towerofhanoi(disks):\n",
        "    dot_radius = 25\n",
        "    dot_height = 300 #constants\n",
        "\n",
        "    display_width = disks * (2 * dot_radius + 5) #to calculate display width based on number of disks\n",
        "\n",
        "    dot_matrix = np.zeros((dot_height, display_width), dtype=np.uint8) #empty dot matrix\n",
        "\n",
        "    #putting values in dot matrix\n",
        "    for i in range(disks):\n",
        "        disk_radius = dot_radius + (disks - i - 1) * 30\n",
        "        x_position = (i * (2 * dot_radius + 5)) + dot_radius\n",
        "        y_position = dot_height - dot_radius\n",
        "\n",
        "        y, x = np.ogrid[-dot_radius:dot_radius, -dot_radius:dot_radius] #to make a circular mask\n",
        "        mask = x**2 + y**2 <= dot_radius**2\n",
        "\n",
        "        y_start, y_end = y_position - dot_radius, y_position + dot_radius #region to update in dot matrix\n",
        "        x_start, x_end = x_position - dot_radius, x_position + dot_radius\n",
        "\n",
        "        dot_matrix[y_start:y_end, x_start:x_end] = np.maximum(dot_matrix[y_start:y_end, x_start:x_end], mask * 255) #to update dotmatrix using the circular mask\n",
        "\n",
        "    return dot_matrix"
      ]
    },
    {
      "cell_type": "code",
      "execution_count": null,
      "metadata": {
        "id": "1aT-knzMLGxY"
      },
      "outputs": [],
      "source": [
        "def main():\n",
        "    num_disks = int(input(\"Enter the number of disks: \"))\n",
        "\n",
        "    if num_disks < 1:\n",
        "        print(\"Number of disks must be 1 or greater.\")\n",
        "        return\n",
        "\n",
        "    steps = 2**num_disks - 1\n",
        "\n",
        "    print(f\"To solve Tower of Hanoi with {num_disks} disks, it will take {steps} steps.\")\n",
        "\n",
        "    dot_matrix_image = draw_towerofhanoi(num_disks)\n",
        "\n",
        "    plt.imshow(dot_matrix_image, cmap='gray')\n",
        "    plt.title(f\"Dot Matrix Display - {num_disks} Disks\")\n",
        "    plt.axis('off') #so that there are no numbers on axes\n",
        "    plt.show()"
      ]
    },
    {
      "cell_type": "code",
      "execution_count": null,
      "metadata": {
        "colab": {
          "base_uri": "https://localhost:8080/",
          "height": 462
        },
        "id": "1Fl3TSQDJ20M",
        "outputId": "413ac94a-6da0-47f4-faa5-08f6b74e636f"
      },
      "outputs": [
        {
          "name": "stdout",
          "output_type": "stream",
          "text": [
            "Enter the number of disks: 7\n",
            "To solve Tower of Hanoi with 7 disks, it will take 127 steps.\n"
          ]
        },
        {
          "data": {
            "image/png": "[encoded data removed]",
            "text/plain": [
              "<Figure size 640x480 with 1 Axes>"
            ]
          },
          "metadata": {},
          "output_type": "display_data"
        }
      ],
      "source": [
        "if __name__ == \"__main__\":\n",
        "    main()"
      ]
    }
  ],
  "metadata": {
    "colab": {
      "provenance": []
    },
    "kernelspec": {
      "display_name": "Python 3",
      "name": "python3"
    },
    "language_info": {
      "name": "python"
    }
  },
  "nbformat": 4,
  "nbformat_minor": 0
}
